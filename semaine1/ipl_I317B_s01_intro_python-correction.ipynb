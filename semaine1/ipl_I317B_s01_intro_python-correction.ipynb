{
 "cells": [
  {
   "cell_type": "markdown",
   "metadata": {},
   "source": [
    "# ipl I317B Sécurité : labos\n",
    "## Semaine 1 : introduction et outils python\n",
    "\n",
    "### Partie 1 : manipuler du texte"
   ]
  },
  {
   "cell_type": "markdown",
   "metadata": {},
   "source": [
    "#### Exercice 1\n",
    "Pour ce premier exercice, nous allons manipuler un court extrait de logs d'un serveur web nginx.  \n",
    "Pour chaque ligne de celui-ci, extrayez:\n",
    "- l'adresse IP\n",
    "- le timestamp\n",
    "- le chemin demandé"
   ]
  },
  {
   "cell_type": "code",
   "execution_count": 16,
   "metadata": {},
   "outputs": [],
   "source": [
    "logs = \"\"\"91.160.48.68 - - [3/Sep/2020:18:18:10 +0200] \"GET /?C=M;O=D HTTP/1.1\" 301 178 \"-\" \"Mozilla/5.0 (Windows NT 10.0; Win64; x64; rv:80.0) Gecko/20100101 Firefox/80.0\" \"-\"\n",
    "78.224.72.158 - - [3/Sep/2020:18:24:52 +0200] \"GET / HTTP/1.1\" 301 178 \"-\" \"Mozilla/5.0 (Windows NT 10.0; Win64; x64; rv:80.0) Gecko/20100101 Firefox/80.0\" \"-\"\n",
    "192.241.199.4 - - [3/Sep/2020:19:11:15 +0200] \"GET / HTTP/1.1\" 301 178 \"-\" \"Mozilla/5.0 zgrab/0.x\" \"-\"\n",
    "40.121.69.161 - - [3/Sep/2020:19:16:32 +0200] \"GET /.env HTTP/1.1\" 301 178 \"-\" \"Mozilla/5.0 (X11; Linux x86_64) AppleWebKit/537.36 (KHTML, like Gecko) Chrome/81.0.4044.129 Safari/537.36\" \"-\"\n",
    "40.121.69.161 - - [3/Sep/2020:19:16:32 +0200] \"POST / HTTP/1.1\" 301 178 \"-\" \"Mozilla/5.0 (X11; Linux x86_64) AppleWebKit/537.36 (KHTML, like Gecko) Chrome/81.0.4044.129 Safari/537.36\" \"-\"\n",
    "185.172.110.223 - - [3/Sep/2020:19:16:37 +0200] \"GET / HTTP/1.1\" 301 178 \"-\" \"Mozilla/5.0 (X11; Ubuntu; Linux x86_64; rv:76.0) Gecko/20100101 Firefox/76.0\" \"-\"\n",
    "66.249.75.16 - - [3/Sep/2020:19:23:28 +0200] \"GET / HTTP/1.1\" 301 178 \"-\" \"Mozilla/5.0 (Linux; Android 6.0.1; Nexus 5X Build/MMB29P) AppleWebKit/537.36 (KHTML, like Gecko) Chrome/85.0.4183.97 Mobile Safari/537.36 (compatible; Googlebot/2.1; +http://www.google.com/bot.html)\" \"-\"\n",
    "66.249.75.23 - - [3/Sep/2020:19:23:30 +0200] \"GET / HTTP/1.1\" 200 0 \"-\" \"Mozilla/5.0 (Linux; Android 6.0.1; Nexus 5X Build/MMB29P) AppleWebKit/537.36 (KHTML, like Gecko) Chrome/85.0.4183.97 Mobile Safari/537.36 (compatible; Googlebot/2.1; +http://www.google.com/bot.html)\" \"-\" \"\"\""
   ]
  },
  {
   "cell_type": "code",
   "execution_count": 10,
   "metadata": {
    "tags": []
   },
   "outputs": [
    {
     "name": "stdout",
     "output_type": "stream",
     "text": [
      "ip: 91.160.48.68\n",
      "timestamp: 3/Sep/2020:18:18:10 +0200\n",
      "path: /?C=M;O=D\n",
      "---\n",
      "ip: 78.224.72.158\n",
      "timestamp: 3/Sep/2020:18:24:52 +0200\n",
      "path: /\n",
      "---\n",
      "ip: 192.241.199.4\n",
      "timestamp: 3/Sep/2020:19:11:15 +0200\n",
      "path: /\n",
      "---\n",
      "ip: 40.121.69.161\n",
      "timestamp: 3/Sep/2020:19:16:32 +0200\n",
      "path: /.env\n",
      "---\n",
      "ip: 40.121.69.161\n",
      "timestamp: 3/Sep/2020:19:16:32 +0200\n",
      "path: /\n",
      "---\n",
      "ip: 185.172.110.223\n",
      "timestamp: 3/Sep/2020:19:16:37 +0200\n",
      "path: /\n",
      "---\n",
      "ip: 66.249.75.16\n",
      "timestamp: 3/Sep/2020:19:23:28 +0200\n",
      "path: /\n",
      "---\n",
      "ip: 66.249.75.23\n",
      "timestamp: 3/Sep/2020:19:23:30 +0200\n",
      "path: /\n",
      "---\n"
     ]
    }
   ],
   "source": [
    "for line in logs.split(\"\\n\"):\n",
    "    print(\"ip:\", line.split(\" \")[0])\n",
    "    print(\"timestamp:\", line.split(\"[\")[1].split(\"]\")[0])\n",
    "    print(\"path:\", line.split(\" \")[6])\n",
    "    print(\"---\")"
   ]
  },
  {
   "cell_type": "code",
   "execution_count": 11,
   "metadata": {},
   "outputs": [
    {
     "name": "stdout",
     "output_type": "stream",
     "text": [
      "ip: 91.160.48.68\n",
      "timestamp: 3/Sep/2020:18:18:10 +0200\n",
      "path: /?C=M;O=D\n",
      "---\n",
      "ip: 78.224.72.158\n",
      "timestamp: 3/Sep/2020:18:24:52 +0200\n",
      "path: /\n",
      "---\n",
      "ip: 192.241.199.4\n",
      "timestamp: 3/Sep/2020:19:11:15 +0200\n",
      "path: /\n",
      "---\n",
      "ip: 40.121.69.161\n",
      "timestamp: 3/Sep/2020:19:16:32 +0200\n",
      "path: /.env\n",
      "---\n",
      "ip: 40.121.69.161\n",
      "timestamp: 3/Sep/2020:19:16:32 +0200\n",
      "path: /\n",
      "---\n",
      "ip: 185.172.110.223\n",
      "timestamp: 3/Sep/2020:19:16:37 +0200\n",
      "path: /\n",
      "---\n",
      "ip: 66.249.75.16\n",
      "timestamp: 3/Sep/2020:19:23:28 +0200\n",
      "path: /\n",
      "---\n",
      "ip: 66.249.75.23\n",
      "timestamp: 3/Sep/2020:19:23:30 +0200\n",
      "path: /\n",
      "---\n"
     ]
    }
   ],
   "source": [
    "file = open(\"./logs.txt\", \"r\")\n",
    "lines = file.readlines()\n",
    "file.close()\n",
    "\n",
    "for line in lines:\n",
    "    print(\"ip:\", line.split(\" \")[0])\n",
    "    print(\"timestamp:\", line.split(\"[\")[1].split(\"]\")[0])\n",
    "    print(\"path:\", line.split(\" \")[6])\n",
    "    print(\"---\")"
   ]
  },
  {
   "cell_type": "markdown",
   "metadata": {},
   "source": [
    "#### Exercice 2\n",
    "Avec les mêmes logs que l'exercice précédent, comptez et affichez les différents user-agent."
   ]
  },
  {
   "cell_type": "code",
   "execution_count": 17,
   "metadata": {},
   "outputs": [],
   "source": [
    "ua_count = {}\n",
    "\n",
    "for line in logs.split(\"\\n\"):\n",
    "    current_ua = line.split(\"\\\"\")[5]\n",
    "    \n",
    "    if current_ua not in ua_count:\n",
    "        ua_count[current_ua] = 0\n",
    "    \n",
    "    ua_count[current_ua] = ua_count[current_ua] + 1"
   ]
  },
  {
   "cell_type": "code",
   "execution_count": 18,
   "metadata": {},
   "outputs": [
    {
     "name": "stdout",
     "output_type": "stream",
     "text": [
      "2 => Mozilla/5.0 (Windows NT 10.0; Win64; x64; rv:80.0) Gecko/20100101 Firefox/80.0\n",
      "1 => Mozilla/5.0 zgrab/0.x\n",
      "2 => Mozilla/5.0 (X11; Linux x86_64) AppleWebKit/537.36 (KHTML, like Gecko) Chrome/81.0.4044.129 Safari/537.36\n",
      "1 => Mozilla/5.0 (X11; Ubuntu; Linux x86_64; rv:76.0) Gecko/20100101 Firefox/76.0\n",
      "2 => Mozilla/5.0 (Linux; Android 6.0.1; Nexus 5X Build/MMB29P) AppleWebKit/537.36 (KHTML, like Gecko) Chrome/85.0.4183.97 Mobile Safari/537.36 (compatible; Googlebot/2.1; +http://www.google.com/bot.html)\n"
     ]
    }
   ],
   "source": [
    "for k, v in ua_count.items():\n",
    "    print(v, \"=>\", k)"
   ]
  },
  {
   "cell_type": "markdown",
   "metadata": {},
   "source": [
    "### Partie 2 : requests et BeautifulSoup\n",
    "\n",
    "Assurez vous que les paquets suivant soient bien installé :\n",
    "\n",
    "`pip3 install --user requests bs4`\n",
    "\n",
    "`sudo pip3 install requests bs4`\n",
    "\n",
    "Depuis un jupyter notebook, vous pouvez probablement juste executer la case suivante :"
   ]
  },
  {
   "cell_type": "code",
   "execution_count": 41,
   "metadata": {},
   "outputs": [
    {
     "name": "stdout",
     "output_type": "stream",
     "text": [
      "Requirement already satisfied: requests in /opt/conda/lib/python3.10/site-packages (2.28.1)\n",
      "Requirement already satisfied: bs4 in ./.local/lib/python3.10/site-packages (0.0.1)\n",
      "Requirement already satisfied: idna<4,>=2.5 in /opt/conda/lib/python3.10/site-packages (from requests) (3.3)\n",
      "Requirement already satisfied: urllib3<1.27,>=1.21.1 in /opt/conda/lib/python3.10/site-packages (from requests) (1.26.11)\n",
      "Requirement already satisfied: charset-normalizer<3,>=2 in /opt/conda/lib/python3.10/site-packages (from requests) (2.1.0)\n",
      "Requirement already satisfied: certifi>=2017.4.17 in /opt/conda/lib/python3.10/site-packages (from requests) (2022.6.15)\n",
      "Requirement already satisfied: beautifulsoup4 in /opt/conda/lib/python3.10/site-packages (from bs4) (4.11.1)\n",
      "Requirement already satisfied: soupsieve>1.2 in /opt/conda/lib/python3.10/site-packages (from beautifulsoup4->bs4) (2.3.2.post1)\n"
     ]
    }
   ],
   "source": [
    "!pip3 install --user requests bs4"
   ]
  },
  {
   "cell_type": "markdown",
   "metadata": {},
   "source": [
    "Le packet requests nous permet de faire des requêtes web facilement, par exemple :"
   ]
  },
  {
   "cell_type": "code",
   "execution_count": 19,
   "metadata": {},
   "outputs": [
    {
     "name": "stdout",
     "output_type": "stream",
     "text": [
      "ok\n"
     ]
    }
   ],
   "source": [
    "import requests\n",
    "\n",
    "ipl_req = requests.get(\"https://www.vinci.be/fr/formations/informatique-de-gestion\")\n",
    "\n",
    "if ipl_req.ok:\n",
    "    print(\"ok\")\n",
    "    ipl_html = ipl_req.text\n",
    "else:\n",
    "    print(ipl_req.status_code)\n",
    "    print(ipl_req.reason)\n",
    "\n",
    "# Doc requests : https://requests.readthedocs.io/en/latest/ )"
   ]
  },
  {
   "cell_type": "markdown",
   "metadata": {
    "tags": []
   },
   "source": [
    "Nous pouvons ensuite lire le code source de la page en affichant `ipl_html`.\n",
    "\n",
    "Parser du html avec des split ou des regex deviendrait vite infernal, c'est là qu'intervient la librairie BeautifulSoup qui nous permet de parcourir beaucoup plus simplement le dom notamment avec les fonctions `find` et `find_all`."
   ]
  },
  {
   "cell_type": "code",
   "execution_count": 20,
   "metadata": {},
   "outputs": [
    {
     "name": "stdout",
     "output_type": "stream",
     "text": [
      "Informatique - développement d’applications (anciennement Informatique de gestion) | HE VINCI\n"
     ]
    }
   ],
   "source": [
    "from bs4 import BeautifulSoup\n",
    "\n",
    "soup = BeautifulSoup(ipl_html)\n",
    "\n",
    "# pour récupérer le contenu de la balise <title> :\n",
    "title = soup.find(\"title\").get_text()\n",
    "\n",
    "print(title)"
   ]
  },
  {
   "cell_type": "markdown",
   "metadata": {},
   "source": [
    "La fonction `find` et la fonction `find_all` vous renverons un object de type `tag` (balise) sur lequel vous pouvez faire :\n",
    "  * d'autres `find()` et `find_all()`\n",
    "  * `get_text()` pour récupérer tout le contenu textuel de la balise\n",
    "  * `[\"nom de l'attribut\"]` pour récupérer un attribut en particulier (exemple: `tag['href']`)\n",
    "  * ...\n",
    "\n",
    "( Doc BeautifulSoup4 : https://www.crummy.com/software/BeautifulSoup/bs4/doc/ )"
   ]
  },
  {
   "cell_type": "markdown",
   "metadata": {},
   "source": [
    "#### Exercice 1:\n",
    "Récupérez le contenue de la page suivante et affichez son titre principal (la balise \"h1\") : https://www.vinci.be/fr/formations/informatique-de-gestion"
   ]
  },
  {
   "cell_type": "code",
   "execution_count": 22,
   "metadata": {},
   "outputs": [
    {
     "name": "stdout",
     "output_type": "stream",
     "text": [
      "Informatique - développement d’applications (anciennement Informatique de gestion) | HE VINCI\n"
     ]
    }
   ],
   "source": [
    "ipl_req = requests.get(\"https://www.vinci.be/fr/formations/informatique-de-gestion\")\n",
    "\n",
    "if not ipl_req.ok:\n",
    "    print(ipl_req.status_code)\n",
    "    print(ipl_req.reason)\n",
    "else:\n",
    "    ipl_html = ipl_req.text\n",
    "    \n",
    "    h1 = soup.find(\"title\").get_text()\n",
    "    print(h1)"
   ]
  },
  {
   "cell_type": "markdown",
   "metadata": {},
   "source": [
    "---"
   ]
  },
  {
   "cell_type": "markdown",
   "metadata": {},
   "source": [
    "Il est possible de faire des requêtes beaucoup plus poussée en ajoutant des arguments correspondant aux attributs des balises que nous cherchons, par exemple pour trouver les balises `<div class=\"footer\"></div>` :\n",
    "\n",
    "```\n",
    "soup.find_all(\"div\", class_=\"footer\")\n",
    "# NB: class est un mot clé réservé en python, d'où l'ajout du \"_\" dans BeautifulSoup\n",
    "\n",
    "# BeautifulSoup accepte également la notation suivante où class n'est plus un mot clé mais un string :\n",
    "soup.find_all(\"div\", {\"class\": \"footer\"})\n",
    "```\n",
    "\n",
    "Ou encore pour trouver tous les liens vers la page facebook de l'ipl :\n",
    "\n",
    "`soup.find_all(\"a\", href=\"https://www.facebook.com/HEVINCI/\")`\n",
    "\n",
    "BeautifoulSoup accepte également des regex compilée en argument, il est donc possible de récupérer la liste des url qui ne sont pas du domaines de \"vinci.be\" :\n",
    "\n",
    "```\n",
    "import re\n",
    "\n",
    "not_vinci = re.compile(\"^http(s?)://(?!www.vinci.be/).*$\")\n",
    "soup.find_all(\"a\", href=not_vinci)\n",
    "```\n",
    "\n",
    "Il est également possible d'utiliser une fonction arbitraire pour valider les liens. Par exemple, pour trouver tous les liens de moins de 30 caractères :\n",
    "\n",
    "```\n",
    "def less_than_30(tag):\n",
    "    return len(tag) < 30  # on retourne un booleen\n",
    "    \n",
    "# on passe notre fonction en paramètre sans l'executer :\n",
    "soup.find_all(\"a\", href=less_than_30)\n",
    "```"
   ]
  },
  {
   "cell_type": "markdown",
   "metadata": {},
   "source": [
    "#### Exercice 2:\n",
    "\n",
    "Utilisez des regex pour récupérer la liste des liens http (et donc pas https) sur la page :  \n",
    "https://www.vinci.be/fr/formations/informatique-de-gestion"
   ]
  },
  {
   "cell_type": "code",
   "execution_count": 30,
   "metadata": {},
   "outputs": [
    {
     "name": "stdout",
     "output_type": "stream",
     "text": [
      "http://www.enseignement.be/index.php?page=4323\n",
      "---\n",
      "http://www.enseignement.be/index.php?page=4323\n"
     ]
    }
   ],
   "source": [
    "import re\n",
    "\n",
    "http_url = re.compile(\"^http://.*$\")\n",
    "\n",
    "for a_tag in soup.find_all(\"a\", href=http_url):\n",
    "    print(a_tag['href'])\n",
    "    \n",
    "print(\"---\")\n",
    "    \n",
    "def only_http(href):\n",
    "    return href.startswith(\"http://\")\n",
    "\n",
    "for a_tag in soup.find_all(\"a\", href=only_http):\n",
    "    print(a_tag['href'])"
   ]
  },
  {
   "cell_type": "markdown",
   "metadata": {},
   "source": [
    "#### Exercice 3:\n",
    "\n",
    "Utilisez une fonction pour récupérer tous les liens qui finissent avec une extension désignant un type de fichier (ex: \".html\", \".php\", \".pdf\", ...) sur la page :  \n",
    "https://www.vinci.be/fr/formations/informatique-de-gestion"
   ]
  },
  {
   "cell_type": "code",
   "execution_count": 46,
   "metadata": {},
   "outputs": [
    {
     "name": "stdout",
     "output_type": "stream",
     "text": [
      "https://www.vinci.be/uploads/brochures/informatique_HEVINCI_22-23.pdf\n",
      "https://progcours.vinci.be/cocoon/programmes/P1INFV01_C.html\n"
     ]
    }
   ],
   "source": [
    "ext_search = re.compile(\"^http(s?)://.*/.*\\.[a-zA-Z]{1,4}$\")\n",
    "\n",
    "for a in soup.find_all('a', href=ext_search):\n",
    "    print(a['href'])"
   ]
  },
  {
   "cell_type": "markdown",
   "metadata": {},
   "source": [
    "#### Exercice 4:\n",
    "Depuis le site du Centre Cybersecurité Belgique https://ccb.belgium.be/fr/actualit%C3%A9s , récupérez la liste des articles récents et affichez leurs titres ainsi qu'un lien vers l'article."
   ]
  },
  {
   "cell_type": "code",
   "execution_count": 47,
   "metadata": {
    "tags": []
   },
   "outputs": [],
   "source": [
    "ipl_req = requests.get(\"https://ccb.belgium.be/fr/actualit%C3%A9s\")\n",
    "\n",
    "if not ipl_req.ok:\n",
    "    print(ipl_req.status_code)\n",
    "    print(ipl_req.reason)\n",
    "else:\n",
    "    ipl_html = ipl_req.text\n",
    "    soup = BeautifulSoup(ipl_html)"
   ]
  },
  {
   "cell_type": "code",
   "execution_count": 56,
   "metadata": {},
   "outputs": [
    {
     "name": "stdout",
     "output_type": "stream",
     "text": [
      "Défendre les PME contre les rançongiciels (ransomware)\n",
      "https://ccb.belgium.be/fr/actualit%C3%A9/d%C3%A9fendre-les-pme-contre-les-ran%C3%A7ongiciels-ransomware\n",
      "---\n",
      "SENSIBILISER À LA CYBERSÉCURITÉ SUR LE LIEU DE TRAVAIL : DÉCOUVREZ CETTE SÉRIE DE 10 épisodes EN COLLABORATION AVEC Canal Z\n",
      "https://ccb.belgium.be/fr/actualit%C3%A9/sensibiliser-%C3%A0-la-cybers%C3%A9curit%C3%A9-sur-le-lieu-de-travail-d%C3%A9couvrez-cette-s%C3%A9rie-de-10\n",
      "---\n",
      "EU Security Research Event (SRE 2023)\n",
      "https://ccb.belgium.be/fr/actualit%C3%A9/eu-security-research-event-sre-2023\n",
      "---\n",
      "Prenez dès maintenant la mesure la plus importante contre les cyberattaques : installer l’authentification à deux facteurs (2FA) pour toutes les connexions externes\n",
      "https://ccb.belgium.be/fr/actualit%C3%A9/prenez-d%C3%A8s-maintenant-la-mesure-la-plus-importante-contre-les-cyberattaques-installer-l\n",
      "---\n",
      "La Belgique renforce la lutte internationale contre les ransomwares\n",
      "https://ccb.belgium.be/fr/actualit%C3%A9/la-belgique-renforce-la-lutte-internationale-contre-les-ransomwares\n",
      "---\n",
      "La Belgique annonce la fin du phishing\n",
      "https://ccb.belgium.be/fr/actualit%C3%A9/la-belgique-annonce-la-fin-du-phishing\n",
      "---\n",
      "Retour sur le CCB Connect & Share – Quarterly Cyber Threat Report (QCTR) du trimestre Q1 2023\n",
      "https://ccb.belgium.be/fr/actualit%C3%A9/retour-sur-le-ccb-connect-share-%E2%80%93-quarterly-cyber-threat-report-qctr-du-trimestre-q1-2023\n",
      "---\n",
      "14 millions de clics vers des sites suspects évités en 2022 grâce au système unique « Anti-Phishing Shield»  \n",
      "https://ccb.belgium.be/fr/actualit%C3%A9/14-millions-de-clics-vers-des-sites-suspects-%C3%A9vit%C3%A9s-en-2022-gr%C3%A2ce-au-syst%C3%A8me-unique-%C2%AB-anti\n",
      "---\n",
      "De jeunes talents se sont distingués lors du Cyber Security Challenge Belgium 2023\n",
      "https://ccb.belgium.be/fr/actualit%C3%A9/de-jeunes-talents-se-sont-distingu%C3%A9s-lors-du-cyber-security-challenge-belgium-2023\n",
      "---\n"
     ]
    }
   ],
   "source": [
    "for article in soup.find_all(\"article\"):\n",
    "    # Le titre de l'article :\n",
    "    print(article.find(\"h2\").get_text())\n",
    "    \n",
    "    # Malheureusement, le site n'utilise pas de balise \"a\" pour les liens des articles.\n",
    "    # Il est necessaire de récupérer l'attribut \"onclick\" et de nettoyer un peu :\n",
    "    # \n",
    "    # onclick=\"location.href='/fr/actualit%C3%A9/d%C3%A9fendre-les-pme-contre-les-ran%C3%A7ongiciels-ransomware'\"  \n",
    "    # \n",
    "    link = article['onclick'].split('=')[1].strip(\"'\")\n",
    "    \n",
    "    print(\"https://ccb.belgium.be\" + link)\n",
    "    print(\"---\")"
   ]
  },
  {
   "cell_type": "markdown",
   "metadata": {},
   "source": [
    "#### Exercice 5:\n",
    "La lib requests permet également d'effectuer de requête POST. Pour tester cette fonctionnalitée, créez un \"httpDump\" sur le site https://httpdump.app/ puis utilisez requests pour poster des données vers votre requestbin.\n",
    "\n",
    "> httpdump\n",
    "> This free service gives you a unique URL to send requests to and inspect them. \n",
    "\n",
    "\n",
    "Voir : https://requests.readthedocs.io/en/master/user/quickstart/#make-a-request (ou la cheatsheet)"
   ]
  },
  {
   "cell_type": "code",
   "execution_count": 60,
   "metadata": {},
   "outputs": [
    {
     "data": {
      "text/plain": [
       "<Response [204]>"
      ]
     },
     "execution_count": 60,
     "metadata": {},
     "output_type": "execute_result"
    }
   ],
   "source": [
    "requests.post(\"https://httpdump.app/dumps/d45da6c5-dd76-4b72-889a-90a3ca50f425\", data={\"user\": \"bob\", \"password\": \"azerty\"})"
   ]
  },
  {
   "cell_type": "markdown",
   "metadata": {},
   "source": [
    "#### Exercice 6:\n",
    "Vous avez certainement constaté sur votre requestbin que la librairie requests utilise par défaut un User-Agent explicite \"*je suis un lib python pour faire des requêtes*\".  \n",
    "Documentez-vous sur la manière de changer celui-ci dans requests et remplacez le dans votre précédente requête vers httpdump par quelque chose de plus discret, par exemple l'user-agent de la dernière version de chrome :  \n",
    "`Mozilla/5.0 (Windows NT 10.0; Win64; x64) AppleWebKit/537.36 (KHTML, like Gecko) Chrome/117.0.0.0 Safari/537.36`\n",
    "\n",
    "source: https://www.whatismybrowser.com/guides/the-latest-user-agent/chrome"
   ]
  },
  {
   "cell_type": "code",
   "execution_count": 61,
   "metadata": {},
   "outputs": [],
   "source": [
    "headers = {'user-agent': 'Mozilla/5.0 (Windows NT 10.0; Win64; x64) AppleWebKit/537.36 (KHTML, like Gecko) Chrome/117.0.0.0 Safari/537.36'}\n",
    "\n",
    "r = requests.get(\"https://httpdump.app/dumps/d45da6c5-dd76-4b72-889a-90a3ca50f425\", headers=headers)"
   ]
  },
  {
   "cell_type": "markdown",
   "metadata": {},
   "source": [
    "# Partie 3 (bonus):\n",
    "\n",
    "Note: dans les jupyter notebook, vous pouvez exécuter des commandes shell en préfixant une cellule d'un `!`. Par exemple : `!date`.\n",
    "\n",
    "#### Exercice 1\n",
    "\n",
    "Pour ce premier exercice, nous allons manipuler un court extrait de logs \"logs.txt\" d'un serveur web nginx (le même que pour la partie 1).\n",
    "\n",
    "Pour chaque ligne de celui-ci, extrayez:\n",
    "\n",
    "    l'adresse IP\n",
    "    le timestamp\n",
    "    le chemin demandé\n",
    "\n",
    "En n'utilisant que des commandes bash : cat, grep, cut, sort, uniq,..."
   ]
  },
  {
   "cell_type": "code",
   "execution_count": 52,
   "metadata": {},
   "outputs": [
    {
     "name": "stdout",
     "output_type": "stream",
     "text": [
      "Tue Sep 20 05:21:27 AM UTC 2022\n"
     ]
    }
   ],
   "source": [
    "!date"
   ]
  },
  {
   "cell_type": "code",
   "execution_count": 35,
   "metadata": {},
   "outputs": [
    {
     "name": "stdout",
     "output_type": "stream",
     "text": [
      "Les IPs:\n",
      "91.160.48.68\n",
      "78.224.72.158\n",
      "192.241.199.4\n",
      "40.121.69.161\n",
      "40.121.69.161\n",
      "185.172.110.223\n",
      "66.249.75.16\n",
      "66.249.75.23\n"
     ]
    }
   ],
   "source": [
    "!echo \"Les IPs:\"\n",
    "!cat logs.txt | cut -d ' ' -f 1"
   ]
  },
  {
   "cell_type": "code",
   "execution_count": 36,
   "metadata": {},
   "outputs": [
    {
     "name": "stdout",
     "output_type": "stream",
     "text": [
      "Les timestamps:\n",
      "3/Sep/2020:18:18:10 +0200\n",
      "3/Sep/2020:18:24:52 +0200\n",
      "3/Sep/2020:19:11:15 +0200\n",
      "3/Sep/2020:19:16:32 +0200\n",
      "3/Sep/2020:19:16:32 +0200\n",
      "3/Sep/2020:19:16:37 +0200\n",
      "3/Sep/2020:19:23:28 +0200\n",
      "3/Sep/2020:19:23:30 +0200\n"
     ]
    }
   ],
   "source": [
    "!echo \"Les timestamps:\"\n",
    "!cat logs.txt | cut -d '[' -f 2 | cut -d ']' -f 1"
   ]
  },
  {
   "cell_type": "code",
   "execution_count": 38,
   "metadata": {},
   "outputs": [
    {
     "name": "stdout",
     "output_type": "stream",
     "text": [
      "Les chemins:\n",
      "/?C=M;O=D\n",
      "/\n",
      "/\n",
      "/.env\n",
      "/\n",
      "/\n",
      "/\n",
      "/\n"
     ]
    }
   ],
   "source": [
    "!echo \"Les chemins:\"\n",
    "!cat logs.txt | cut -d ' ' -f 7"
   ]
  },
  {
   "cell_type": "markdown",
   "metadata": {},
   "source": [
    "#### Exercice 2\n",
    "Avec les mêmes logs que l'exercice précédent, comptez et affichez les différents user-agent."
   ]
  },
  {
   "cell_type": "code",
   "execution_count": 45,
   "metadata": {},
   "outputs": [
    {
     "name": "stdout",
     "output_type": "stream",
     "text": [
      "Attention, sort est nécessaire avant le uniq car uniq ne déduplique que les lignes successives.\n",
      "\n",
      "      2 Mozilla/5.0 (Linux; Android 6.0.1; Nexus 5X Build/MMB29P) AppleWebKit/537.36 (KHTML, like Gecko) Chrome/85.0.4183.97 Mobile Safari/537.36 (compatible; Googlebot/2.1; +http://www.google.com/bot.html)\n",
      "      2 Mozilla/5.0 (Windows NT 10.0; Win64; x64; rv:80.0) Gecko/20100101 Firefox/80.0\n",
      "      2 Mozilla/5.0 (X11; Linux x86_64) AppleWebKit/537.36 (KHTML, like Gecko) Chrome/81.0.4044.129 Safari/537.36\n",
      "      1 Mozilla/5.0 (X11; Ubuntu; Linux x86_64; rv:76.0) Gecko/20100101 Firefox/76.0\n",
      "      1 Mozilla/5.0 zgrab/0.x\n"
     ]
    }
   ],
   "source": [
    "!echo -e \"Attention, sort est nécessaire avant le uniq car uniq ne déduplique que les lignes successives.\\n\"\n",
    "\n",
    "!cat logs.txt | cut -d '\"' -f 6 | sort | uniq -c"
   ]
  }
 ],
 "metadata": {
  "kernelspec": {
   "display_name": "Python 3 (ipykernel)",
   "language": "python",
   "name": "python3"
  },
  "language_info": {
   "codemirror_mode": {
    "name": "ipython",
    "version": 3
   },
   "file_extension": ".py",
   "mimetype": "text/x-python",
   "name": "python",
   "nbconvert_exporter": "python",
   "pygments_lexer": "ipython3",
   "version": "3.11.4"
  }
 },
 "nbformat": 4,
 "nbformat_minor": 4
}
